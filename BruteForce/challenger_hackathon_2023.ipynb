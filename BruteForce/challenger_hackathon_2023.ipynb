{
 "cells": [
  {
   "cell_type": "markdown",
   "metadata": {},
   "source": [
    "<div align=\"center\"><h1>HPC / SENAI / Hackathon (2023.2)<br>\n",
    "Brute Force Algorithm </h1></div>"
   ]
  },
  {
   "cell_type": "markdown",
   "metadata": {},
   "source": [
    "**Murilo Boratto**$^1$\n",
    "\n",
    "$^1$ Supercomputing Center SENAI CIMATEC, Salvador, Bahia, Brazil "
   ]
  },
  {
   "cell_type": "markdown",
   "metadata": {},
   "source": [
    "## Introdução"
   ]
  },
  {
   "cell_type": "markdown",
   "metadata": {},
   "source": [
    "As técnicas de paralelismo compreendem em aplicação de estratégias baseadas na utilização de processamento paralelo manipulando diferentes recursos computacionais. Alguma dessas técnicas compreendem a utilização de bibliotecas paralelas como `OpenMP`, `MPI` e `CUDA`. Cada uma dessas bibliotecas consiste na manipulação de recursos computacionais diferentes, podendo ser utilizadas de forma híbrida a fim da obtenção de máximo desempenho. No OpenMP e CUDA manipulamos *Threads*, enquanto no MPI *Processos*, sendo de real relevância os impactos destas unidades de processamento frente aos recursos computacionais. A seguir será apresentado um código sequencial para a quebra de senha de até 20 caracteres utilizando um algoritmo de *Força Bruta*. O objetivo básico será inserir técnicas de paralelismo ao código, tal que serão considerados alguns itens nos produtos finais: \n",
    "\n",
    "* `Análise dos Custos Computacionais das Aplicações Sequênciais e Paralelas`\n",
    "    + Profilling CPU (gprof)\n",
    "    + Profiling GPU (nsys)\n",
    "* `Estudo das Estruturas Algorítmicas das Aplicações Paralelas`\n",
    "    + Modelos Algorítmicos Aplicados\n",
    "    + Características da inserção da API\n",
    "* `Análise de Desempenho`\n",
    "     + Experimentação de Parâmetros Ótimos (Melhores valores de Processos, Threads e Grid Computacional)\n",
    "     + Indices de eficiência (Speedup)"
   ]
  },
  {
   "cell_type": "markdown",
   "metadata": {},
   "source": [
    "## Regras do Hackathon"
   ]
  },
  {
   "cell_type": "markdown",
   "metadata": {},
   "source": [
    "* Os idiomas oficiais desse HPC Hackathon são: inglês e português;\n",
    "\n",
    "* Este ano a competição será em grupos de 2 ou 3 pessoas;\n",
    "\n",
    "* Tópico Principal: Portabilidade e Otimização de Código;\n",
    "    \n",
    "* Os participantes disponibilizarão os resultados através um repositório git pessoal que será configurado pelos participantes e/ou pela ferramenta GOOGLE COLAB;\n",
    "\n",
    "* Além do código modificado, a resolução deve conter scripts de execução automática para obter os Parâmetros Ótimos e os Speedups;\n",
    "\n",
    "* O código produzido será avaliado em 2 pontos: desempenho e speedup;\n",
    "\n",
    "* Os participantes devem codificar e comentar seus códigos;\n",
    "\n",
    "* Os participantes acessarão o supercomputador via ssh com suas contas previamente configuradas;\n",
    "\n",
    "* As habilidades necessárias são: Git, C, C++, Python, Unix, shell, bash, OpenMP, CUDA, MPI;\n",
    "\n",
    "Boa sorte e boa codificação!"
   ]
  },
  {
   "cell_type": "markdown",
   "metadata": {},
   "source": [
    "## Código Sequencial "
   ]
  },
  {
   "cell_type": "markdown",
   "metadata": {},
   "source": [
    "O código acima tem como finalidade a simulação de uma quebra de senha, através da estrátegia de *Força Bruta*, ou seja, teste de todas as possbilidades, uma a uma, até encontrar a solução. Faz-se perceber que o número de possibilidades em um alfabeto de 26 letras em uma senha de 20 caracteres é enorme, por isso, ao tentar cada combinação exige um grande poder computacional, reberberando em um alto tempo de execução, especialmente para um código sequencial. <br>  "
   ]
  },
  {
   "cell_type": "code",
   "execution_count": null,
   "metadata": {},
   "outputs": [],
   "source": [
    "%%writefile bruteForce.c\n",
    "\n",
    "#include <stdio.h>\n",
    "#include <stdlib.h>\n",
    "#include <string.h>\n",
    "#include <time.h>\n",
    "#include <math.h>\n",
    "\n",
    "//97 to 122 use only lowercase letters\n",
    "//65 to 90 use only capital letters\n",
    "//48 to 57 use only numbers\n",
    "\n",
    "#define START_CHAR 48\n",
    "#define END_CHAR 122\n",
    "#define MAXIMUM_PASSWORD 20\n",
    "\n",
    "long long my_pow(long long x, int y)\n",
    "{\n",
    "  long long res = 1;\n",
    "  if (y==0)\n",
    "    return res;\n",
    "  else\n",
    "    return x * my_pow(x, y-1);\n",
    "}\n",
    "\n",
    "void bruteForce(char *pass) \n",
    "{\n",
    "  char force[MAXIMUM_PASSWORD];\n",
    "  int pass_b26[MAXIMUM_PASSWORD];\n",
    "    \n",
    "  long long int j;\n",
    "  long long int pass_decimal = 0;\n",
    "  int base = END_CHAR - START_CHAR + 2;\n",
    "\n",
    "  int size = strlen(pass);\n",
    "\n",
    "  for(int i = 0; i < MAXIMUM_PASSWORD; i++)\n",
    "    force[i] = '\\0';\n",
    "\n",
    "  printf(\"Try to broke the password: %s\\n\", pass);\n",
    "\n",
    "  for(int i = 0; i < size; i++)\n",
    "    pass_b26[i] = (int) pass[i] - START_CHAR + 1; \n",
    "\n",
    "  for(int i = size - 1; i > -1; i--)\n",
    "    pass_decimal += (long long int) pass_b26[i] * my_pow(base, i);\n",
    "\n",
    "  long long int max = my_pow(base, size);\n",
    "  char s[MAXIMUM_PASSWORD];\n",
    "\n",
    "  for(j = 0; j < max; j++){\n",
    "    if(j == pass_decimal){\n",
    "      printf(\"Found password!\\n\");\n",
    "      int index = 0;\n",
    "\n",
    "      printf(\"Password in decimal base: %lli\\n\", j);\n",
    "      while(j > 0){\n",
    "        s[index++] = START_CHAR + j%base-1;\n",
    "        j /= base;\n",
    "      }\n",
    "      s[index] = '\\0';\n",
    "      printf(\"Found password: %s\\n\", s);\n",
    "      break;\n",
    "    }\n",
    "  }\n",
    "\n",
    "}\n",
    "\n",
    "int main(int argc, char **argv) \n",
    "{\n",
    "  char password[MAXIMUM_PASSWORD];\n",
    "  strcpy(password, argv[1]);\n",
    "  time_t t1, t2;\n",
    "  double dif;\n",
    "\n",
    "  time (&t1);\n",
    "    bruteForce(password);\n",
    "  time (&t2);\n",
    "\n",
    "  dif = difftime (t2, t1);\n",
    "\n",
    "  printf(\"\\n%1.2f seconds\\n\", dif);\n",
    "\n",
    "  return 0;\n",
    "}"
   ]
  },
  {
   "cell_type": "code",
   "execution_count": null,
   "metadata": {},
   "outputs": [],
   "source": [
    "!gcc bruteForce.c -o bruteForce -std=c99 -O3"
   ]
  },
  {
   "cell_type": "code",
   "execution_count": null,
   "metadata": {},
   "outputs": [],
   "source": [
    "!./bruteForce senhatez"
   ]
  },
  {
   "cell_type": "markdown",
   "metadata": {},
   "source": [
    "O algoritmo realiza a leitura de uma string qualquer passada como parâmetro pelo terminal, respeitando os limites pré-estabelecidos, e a transforma em sua representação numérica de inteiro. Um vetor de inteiros é criado para armazena-la, letra por letra, transformando os valores de acordo com a posição das letras na tabela ASCII em relação ao caractere inicial de referência. Dessa forma, levando em conta, por exemplo, apenas letras minúsculas, a letra \"a\" se torna \"1\", \"b\" se torna \"2\" e assim por diante. Logo depois, tratando esse vetor de inteiros como um número em base 26 em ele é \"encriptado\" em um novo inteiro de base númerica 10, o que pode gerar um valor extremamente alto que cresce exponencialmente a cada letra da palavra. Este processo é representado pela figura a seguir:"
   ]
  },
  {
   "cell_type": "markdown",
   "metadata": {},
   "source": [
    "<div style=\"text-align: justify\">\n",
    "<center><img src=\"images/stringToDecimal.png\" width=\"500\" height=auto></center>\n",
    "<div align=\"center\"><b>Figura 1 -</b> Processos de transformação da senha até sua representação em decimal.</div>\n",
    "</div>\n"
   ]
  },
  {
   "cell_type": "markdown",
   "metadata": {},
   "source": [
    "Só a partir desse ponto a técnica de *Força Bruta* entra em ação para efetivamente decriptar a senha, comparando número a número dentro do laço _for_. Quando a senha é encontrada ela é transformada novamente na string original como representado pela Figura 2, então o processo se encerra, exibindo o tempo total de execução do código.<br>\n",
    "\n",
    "Códigos que utilizam este método são implementações em potencial para a aplicação de técnicas de paralelização, devido que há uma independêcia entre as tentativas de comparação entre combinações, e que a implementação destas técnicas podem aumentar a eficiência do código de forma exponencial. "
   ]
  },
  {
   "cell_type": "markdown",
   "metadata": {},
   "source": [
    "<div style=\"text-align: justify\">\n",
    "<center><img src=\"images/decimalToString.png\" width=\"600\" height=auto></center>\n",
    "<div align=\"center\"><b>Figura 2 -</b> Processos de busca e retorno da base 10 para a senha original. </div>\n",
    "</div>"
   ]
  },
  {
   "cell_type": "markdown",
   "metadata": {
    "id": "LsXVY4l-G_dZ",
    "tags": []
   },
   "source": [
    "## Análise dos Custos Computacionais da Aplicação Sequencial (Profilling)"
   ]
  },
  {
   "cell_type": "markdown",
   "metadata": {},
   "source": [
    "Conhecendo o algoritmo sequencial faz-se necessário mensurar os pontos do código que exigem maior custo computacional da aplicação,  para que possamos focar nossos esforços na paralelização desses trechos, desta maneira, conseguimos trabalhar de forma inteligente, onde o código realmente precisa ganhar desempenho. Para a realização dessa etapa, será utilizado uma ferramenta denominada GNU profiler (gprof) que faz parte do conjunto GNU Binary Utilities (binutils), que tem como principal funcionalidade analisar e capturar os tempos durante a execução do código, gerando relátorios de desempenho. \n",
    "\n",
    "Para executar o processo de profilling basta inserir o argumento _-pg_ na compilação do nosso código sequencial, executá-lo normalmente para gerar o arquivo binário do relatório e, logo depois, exibi-lo de forma legível através do comando associados ao gprof, ilustra-se a seguir: "
   ]
  },
  {
   "cell_type": "code",
   "execution_count": null,
   "metadata": {
    "id": "NZy3z6w4HFLy"
   },
   "outputs": [],
   "source": [
    "!gcc bruteForce.c -o bruteForce -std=c99 -O3 -pg"
   ]
  },
  {
   "cell_type": "code",
   "execution_count": null,
   "metadata": {
    "colab": {
     "base_uri": "https://localhost:8080/"
    },
    "executionInfo": {
     "elapsed": 1256,
     "status": "ok",
     "timestamp": 1667861157843,
     "user": {
      "displayName": "Murilo Boratto",
      "userId": "13998345321799991370"
     },
     "user_tz": 180
    },
    "id": "zElsps2THFtG",
    "outputId": "2ed87585-2ab2-46ba-d949-9e4aa24ee88e"
   },
   "outputs": [],
   "source": [
    "!./bruteForce senhatez"
   ]
  },
  {
   "cell_type": "code",
   "execution_count": null,
   "metadata": {
    "colab": {
     "base_uri": "https://localhost:8080/"
    },
    "executionInfo": {
     "elapsed": 427,
     "status": "ok",
     "timestamp": 1667861163632,
     "user": {
      "displayName": "Murilo Boratto",
      "userId": "13998345321799991370"
     },
     "user_tz": 180
    },
    "id": "Jl_fHfyFHNYC",
    "outputId": "2b0e34b8-ba26-4803-fc21-56f7f4c16973"
   },
   "outputs": [],
   "source": [
    "!gprof -b bruteForce gmon.out"
   ]
  },
  {
   "cell_type": "markdown",
   "metadata": {},
   "source": [
    "<br>&emsp;Após a geração dos relatórios, podemos concluir estratégias de paralelismo para definir os próximos passos do processo de otimização. Pode-se observar que as funções _main_ e _my_pow_ não tem impacto significativo no tempo de execução do algoritmo, em contrapartida, a função _bruteforce_ é responsável por quase 100% do mesmo. Assim sendo, fica fácil de identificar os pontos de gargalo, partindo de um pressuposto que em um código, geralmente, o que mais consome tempo de execução são os laços e temos apenas três deles na função _bruteforce_.\n",
    "<br> \n",
    "&emsp;Os dois primeiros laços são baseados no tamanho da string, enquanto o terceiro possue o maior custo computacional, pois nele será realizada a busca comparativa da chave.\n",
    "<br>\n",
    "&emsp;Para um viés de validação, posicionamos capturas de tempo antes e depois de cada laço, imprimindo no terminal o tempo de execução de cada um. Como esperado, os dois primeiros laços representam tempos insiginificantes, enquanto o laço de contagem consome a maior parte do tempo de execução do código. Com o estudo da execução do código realizado, estamos prontos para começar o processo de divisão do domínio e inserção de técnicas de paralelização ao código."
   ]
  },
  {
   "cell_type": "markdown",
   "metadata": {
    "tags": []
   },
   "source": [
    "---\n",
    "## Aplicações Paralelas"
   ]
  },
  {
   "cell_type": "markdown",
   "metadata": {},
   "source": [
    "### Multicore (OPENMP)"
   ]
  },
  {
   "cell_type": "code",
   "execution_count": null,
   "metadata": {},
   "outputs": [],
   "source": [
    "%%writefile bruteForce-omp.c\n",
    "\n",
    "/**\n",
    "TODO\n",
    "*/"
   ]
  },
  {
   "cell_type": "code",
   "execution_count": null,
   "metadata": {},
   "outputs": [],
   "source": [
    "!gcc bruteForce-omp.c -o bruteForce-omp -fopenmp -std=c99 -O3"
   ]
  },
  {
   "cell_type": "code",
   "execution_count": null,
   "metadata": {},
   "outputs": [],
   "source": [
    "!OMP_NUM_THREADS=16 bruteforce-omp senhatez"
   ]
  },
  {
   "cell_type": "markdown",
   "metadata": {},
   "source": [
    "### Multiprocessor (MPI)"
   ]
  },
  {
   "cell_type": "code",
   "execution_count": null,
   "metadata": {},
   "outputs": [],
   "source": [
    "%%writefile bruteForce-mpi.c\n",
    "\n",
    "/**\n",
    "TODO\n",
    "*/"
   ]
  },
  {
   "cell_type": "code",
   "execution_count": null,
   "metadata": {},
   "outputs": [],
   "source": [
    "!mpicc bruteForce-mpi.c -o bruteForce-mpi -fopenmp -std=c99 -O3"
   ]
  },
  {
   "cell_type": "code",
   "execution_count": null,
   "metadata": {},
   "outputs": [],
   "source": [
    "!mpirun -np 4 ./bruteForce-mpi senhatez"
   ]
  },
  {
   "cell_type": "markdown",
   "metadata": {},
   "source": [
    "### Multiprocessor + Multicore (MPI + OpenMP)"
   ]
  },
  {
   "cell_type": "code",
   "execution_count": null,
   "metadata": {},
   "outputs": [],
   "source": [
    "%%writefile bruteForce-mpi+omp.c\n",
    "\n",
    "/**\n",
    "TODO\n",
    "*/"
   ]
  },
  {
   "cell_type": "code",
   "execution_count": null,
   "metadata": {},
   "outputs": [],
   "source": [
    "!mpicc bruteForce-mpi+omp.c -o bruteForce-mpi+omp -fopenmp -std=c99 -O3"
   ]
  },
  {
   "cell_type": "code",
   "execution_count": null,
   "metadata": {},
   "outputs": [],
   "source": [
    "!OMP_NUM_THREADS=4 mpirun -np 4 ./bruteForce-mpi+omp senhatez"
   ]
  },
  {
   "cell_type": "markdown",
   "metadata": {},
   "source": [
    "### GPU (CUDA)"
   ]
  },
  {
   "cell_type": "code",
   "execution_count": null,
   "metadata": {},
   "outputs": [],
   "source": [
    "%%writefile bruteForce-cuda.cu\n",
    "\n",
    "/**\n",
    "TODO\n",
    "*/"
   ]
  },
  {
   "cell_type": "code",
   "execution_count": null,
   "metadata": {},
   "outputs": [],
   "source": [
    "!nvcc bruteForce-cuda.cu -o bruteForce-cuda -std=c99 -O3"
   ]
  },
  {
   "cell_type": "code",
   "execution_count": null,
   "metadata": {},
   "outputs": [],
   "source": [
    "!./bruteForce senhatez"
   ]
  },
  {
   "cell_type": "markdown",
   "metadata": {},
   "source": [
    "## Análise Experimental"
   ]
  },
  {
   "cell_type": "markdown",
   "metadata": {},
   "source": [
    "### I) Validação com Cadeia de zs"
   ]
  },
  {
   "cell_type": "markdown",
   "metadata": {},
   "source": [
    "#### Parâmetros Ótimos de Execução"
   ]
  },
  {
   "cell_type": "markdown",
   "metadata": {
    "tags": []
   },
   "source": [
    "1. OpenMP = **A** Threads\n",
    "2. MPI = **B** nós + **C** Processos\n",
    "3. MPI + OpenMP = **D** nós + **E** Processos + **F** Threads\n",
    "4. CUDA = G1D B1DT1D (**G** * 32, 1024)"
   ]
  },
  {
   "cell_type": "markdown",
   "metadata": {},
   "source": [
    "### Tempos de execução em segundos das aplicações"
   ]
  },
  {
   "cell_type": "markdown",
   "metadata": {},
   "source": [
    "|  Senha (Entradas)    | Sequencial | OpenMP | MPI  | Híbrido | CUDA\n",
    "| ---------------------| ---------- | ------ | ---  | ------- | ----\n",
    "| (7z)  zzzzzzz        |            |        |      |         |  \n",
    "| (8z)  zzzzzzzz       |            |        |      |         | \n",
    "| (9z)  zzzzzzzzz      |            |        |      |         | \n",
    "| (10z) zzzzzzzzzz     |            |        |      |         | "
   ]
  },
  {
   "cell_type": "markdown",
   "metadata": {
    "tags": []
   },
   "source": [
    "### Speedups"
   ]
  },
  {
   "cell_type": "markdown",
   "metadata": {},
   "source": [
    "|  Senha    |  OpenMP    | MPI     | Híbrido       | CUDA\n",
    "| --------- |  ------    | ------  | -------       | ----\n",
    "| 7z        |            |         |               |  \n",
    "| 8z        |            |         |               |   \n",
    "| 9z        |            |         |               |  \n",
    "| 10z       |            |         |               |  "
   ]
  },
  {
   "cell_type": "markdown",
   "metadata": {},
   "source": [
    "### II) Análise de Desempenho - Senha Específica: -Hacka01"
   ]
  },
  {
   "cell_type": "markdown",
   "metadata": {},
   "source": [
    "#### Parâmetros Ótimos de Execução"
   ]
  },
  {
   "cell_type": "markdown",
   "metadata": {},
   "source": [
    "1. OpenMP = A Threads\n",
    "2. MPI = B nós + C Processos\n",
    "3. MPI + OpenMP = D nós + E Processos + F Threads\n",
    "4. CUDA = G1D B1DT1D (G * 32, 1024)"
   ]
  },
  {
   "cell_type": "markdown",
   "metadata": {},
   "source": [
    "### Tempo de execução em segundos das aplicações"
   ]
  },
  {
   "cell_type": "markdown",
   "metadata": {},
   "source": [
    "|  Senha (Entradas)    | Sequencial | OpenMP | MPI  | Híbrido | CUDA\n",
    "| ---------------------| ---------- | ------ | ---  | ------- | ----\n",
    "| -Hacka01              |            |        |      |         |  \n"
   ]
  },
  {
   "cell_type": "markdown",
   "metadata": {},
   "source": [
    "### Speedup"
   ]
  },
  {
   "cell_type": "markdown",
   "metadata": {},
   "source": [
    "|  Senha    |  OpenMP    | MPI     | Híbrido       | CUDA\n",
    "| --------- |  ------    | ------  | -------       | ----\n",
    "| -Hacka01   |            |         |               |  \n"
   ]
  },
  {
   "cell_type": "markdown",
   "metadata": {},
   "source": [
    "## Conclusões"
   ]
  },
  {
   "cell_type": "markdown",
   "metadata": {},
   "source": [
    "Lorem ipsum dolor sit amet, consectetur adipiscing elit, sed do eiusmod tempor incididunt ut labore et dolore magna aliqua. Ut enim ad minim veniam, quis nostrud exercitation ullamco laboris nisi ut aliquip ex ea commodo consequat. Duis aute irure dolor in reprehenderit in voluptate velit esse cillum dolore eu fugiat nulla pariatur. Excepteur sint occaecat cupidatat non proident, sunt in culpa qui officia deserunt mollit anim id est laborum."
   ]
  },
  {
   "cell_type": "markdown",
   "metadata": {},
   "source": [
    "## Referências Biliográficas"
   ]
  },
  {
   "cell_type": "markdown",
   "metadata": {},
   "source": [
    "* G. Coulouris, J. Dollimore, T. Kindberg, G.Blair. Distributed Systems: Concepts and Design, Fifth Edition, Pearson, 2011.\n",
    "\n",
    "* S.Tanenbaum, M. Steen, Distributed Systems: Principles and Paradigms, Second Edition, Pearson, 2006.\n",
    "\n",
    "* David A. Patterson and John L. Hennessy. Computer Organization and Design: The Hardware/Software Interface. Morgan Kaufmann, 5th Edition, 2013.\n",
    "\n",
    "* An Introduction to Parallel Programming by Peter S. Pacheco. Morgan Kauffman.\n",
    "\n",
    "* W. C. Barbosa, An introduction to distributed algorithms, MIT Press, 1997. N. Lynch, Distributed Algorithms, Mit Press, 1996 e Introduction to Distributed Algorithms, Gerard Tel, Cabribridge U. Press, 1994."
   ]
  }
 ],
 "metadata": {
  "kernelspec": {
   "display_name": "Python 3 (ipykernel)",
   "language": "python",
   "name": "python3"
  },
  "language_info": {
   "codemirror_mode": {
    "name": "ipython",
    "version": 3
   },
   "file_extension": ".py",
   "mimetype": "text/x-python",
   "name": "python",
   "nbconvert_exporter": "python",
   "pygments_lexer": "ipython3",
   "version": "3.8.8"
  }
 },
 "nbformat": 4,
 "nbformat_minor": 4
}
